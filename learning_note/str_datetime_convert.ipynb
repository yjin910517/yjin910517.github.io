{
 "cells": [
  {
   "cell_type": "markdown",
   "metadata": {},
   "source": [
    "## Python文本与时间日期之间的相互转换"
   ]
  },
  {
   "cell_type": "markdown",
   "metadata": {},
   "source": [
    "在使用Python时，我们经常需要将字符串格式的时间日期转换成datetime格式进行使用，或者反过来，将datetime格式的数据转换成单纯的文本方便输出和展示。Python的datetime模块里提供了两个现成的函数来实现这两种转换，它们分别是**strptime**和**strftime**。"
   ]
  },
  {
   "cell_type": "markdown",
   "metadata": {},
   "source": [
    "#### strptime 从字符串变成时间日期"
   ]
  },
  {
   "cell_type": "markdown",
   "metadata": {},
   "source": [
    "假如我们有字符串：\"2017/08/03 15:11\",该如何在Python中转换成datetime格式的数据呢？datetime模块中的strptime提供了解决方案："
   ]
  },
  {
   "cell_type": "code",
   "execution_count": 1,
   "metadata": {},
   "outputs": [
    {
     "name": "stdout",
     "output_type": "stream",
     "text": [
      "<class 'str'>\n",
      "2017-08-03 15:11:00\n",
      "<class 'datetime.datetime'>\n"
     ]
    }
   ],
   "source": [
    "import datetime\n",
    "string_dt = '2017/8/3 15:11'\n",
    "print(type(string_dt))\n",
    "\n",
    "datetime_dt = datetime.datetime.strptime(string_dt,\"%Y/%m/%d %H:%M\")\n",
    "print(datetime_dt)\n",
    "print(type(datetime_dt))"
   ]
  },
  {
   "cell_type": "markdown",
   "metadata": {},
   "source": [
    "我们可以看到**strptime**函数需要两个参数，第一个是等待被转换的字符串，而第二个参数则是你在告诉Python，你提供的字符串到底是怎样的格式，好方便它进行拆解和翻译。<br>\n",
    "我们详细来看一下第二个参数：\n",
    "- %Y代表的是四位数字的年份2017\n",
    "- %m代表的是数字格式的月份08\n",
    "- %d代表的是日期03\n",
    "- 年月日之间的/分隔也要告诉python\n",
    "- 年月日之后有一个空格\n",
    "- 空格之后24小时格式的时间由%H代表（15时）\n",
    "- %M代表的是分钟11\n",
    "- 小时与日期之间通过分号间隔\n",
    "\n",
    "在Python知道字符串的格式后，就可以正确提取出datetime的不同组成部分，进行格式的转换。转换之后，我们可以方便地从新变量里提取各种信息，比如：\n"
   ]
  },
  {
   "cell_type": "code",
   "execution_count": 2,
   "metadata": {},
   "outputs": [
    {
     "name": "stdout",
     "output_type": "stream",
     "text": [
      "8\n",
      "2017\n"
     ]
    }
   ],
   "source": [
    "print(datetime_dt.month)\n",
    "print(datetime_dt.year)"
   ]
  },
  {
   "cell_type": "markdown",
   "metadata": {},
   "source": [
    "Python为常见的日期表现格式都提供了通配符，完整的清单可以参见[python文档](https://docs.python.org/2/library/datetime.html#strftime-and-strptime-behavior)"
   ]
  },
  {
   "cell_type": "markdown",
   "metadata": {},
   "source": [
    "![](python_datetime_directive.png?raw=true)"
   ]
  },
  {
   "cell_type": "markdown",
   "metadata": {},
   "source": [
    "值得注意的是，由于分钟（minute）的首字母和月份（month）的首字母都是m，在使用格式时需要注意 %M代表分钟（01,02,03...59,00），而%m代表数字月份（01,02,03...11,12）。而大写的月份则有%B（January，February...）和%b（Jan，Feb...）代表。"
   ]
  },
  {
   "cell_type": "markdown",
   "metadata": {},
   "source": [
    "下面是更多的例子："
   ]
  },
  {
   "cell_type": "code",
   "execution_count": 3,
   "metadata": {},
   "outputs": [
    {
     "name": "stdout",
     "output_type": "stream",
     "text": [
      "2017-08-03 15:11:00\n",
      "2017-08-03 03:11:00\n",
      "1900-08-03 00:00:00\n"
     ]
    }
   ],
   "source": [
    "datetime_dt = datetime.datetime.strptime('2017-Aug-03 3:11 pm','%Y-%b-%d %I:%M %p')\n",
    "print(datetime_dt)\n",
    "\n",
    "datetime_dt = datetime.datetime.strptime('03-August-17 3:11 AM','%d-%B-%y %I:%M %p')\n",
    "print(datetime_dt)\n",
    "\n",
    "datetime_dt_missing = datetime.datetime.strptime('03/Aug','%d/%b')\n",
    "print(datetime_dt_missing)\n"
   ]
  },
  {
   "cell_type": "markdown",
   "metadata": {},
   "source": [
    "从第三个例子可以看出，一个完整的datetime格式变量需要：年、月、日、小时、分钟、秒数6个变量，当其中一些变量在字符串里没有时，Python会自动用系统默认值来替代。"
   ]
  },
  {
   "cell_type": "markdown",
   "metadata": {},
   "source": [
    "#### strftime 从时间日期变成字符串"
   ]
  },
  {
   "cell_type": "markdown",
   "metadata": {},
   "source": [
    "在了解了**strptime**以后，再去理解**strftime**就非常容易。最方便获取的datetime变量就是通过**now()**来抓取的当前时间："
   ]
  },
  {
   "cell_type": "code",
   "execution_count": 4,
   "metadata": {},
   "outputs": [
    {
     "name": "stdout",
     "output_type": "stream",
     "text": [
      "2017-08-03 16:03:06.378022\n",
      "<class 'datetime.datetime'>\n"
     ]
    }
   ],
   "source": [
    "datetime_dt = datetime.datetime.now()\n",
    "print(datetime_dt)\n",
    "print(type(datetime_dt))"
   ]
  },
  {
   "cell_type": "code",
   "execution_count": 5,
   "metadata": {},
   "outputs": [
    {
     "name": "stdout",
     "output_type": "stream",
     "text": [
      "17/August/03\n",
      "<class 'str'>\n",
      "\n",
      "2017/08/03 Thursday\n"
     ]
    }
   ],
   "source": [
    "string_dt=datetime.datetime.strftime(datetime_dt,'%y/%B/%d')\n",
    "print(string_dt)\n",
    "print(type(string_dt))\n",
    "\n",
    "print()\n",
    "string_dt=datetime.datetime.strftime(datetime_dt,'%Y/%m/%d %A')\n",
    "print(string_dt)"
   ]
  },
  {
   "cell_type": "markdown",
   "metadata": {},
   "source": [
    "可以看到，**strftime**函数的参数与**strptime**格式基本一样，只不过第一个参数是datetime变量，而输出结果为字符串。我们可以在第二个参数里预设自己想得到的格式。"
   ]
  },
  {
   "cell_type": "markdown",
   "metadata": {},
   "source": [
    "Jupyter notebook原文件[地址](str_datetime_convert.ipynb)\n",
    "\n",
    "*Author:Yue Tyler Jin 2017-08-03*"
   ]
  }
 ],
 "metadata": {
  "anaconda-cloud": {},
  "kernelspec": {
   "display_name": "Python 3",
   "language": "python",
   "name": "python3"
  },
  "language_info": {
   "codemirror_mode": {
    "name": "ipython",
    "version": 3
   },
   "file_extension": ".py",
   "mimetype": "text/x-python",
   "name": "python",
   "nbconvert_exporter": "python",
   "pygments_lexer": "ipython3",
   "version": "3.6.1"
  }
 },
 "nbformat": 4,
 "nbformat_minor": 1
}
